{
 "cells": [
  {
   "cell_type": "markdown",
   "metadata": {},
   "source": [
    "# Esercitazione: Primitive Socket e Header TCP/UDP\n",
    "\n",
    "**Obiettivi:**\n",
    "1. Verificare la comprensione della sequenza corretta delle primitive di socket.\n",
    "2. Analizzare l'impatto teorico di ogni primitiva sulla composizione degli header TCP e UDP.\n",
    "\n",
    "**Primitive Analizzate:**\n",
    "- `socket()`\n",
    "- `bind()`\n",
    "- `listen()`\n",
    "- `accept()`\n",
    "- `connect()`\n",
    "- `send()` / `sendall()`\n",
    "- `sendto()`\n",
    "- `recv()`\n",
    "- `recvfrom()`\n",
    "- `close()`"
   ]
  },
  {
   "cell_type": "code",
   "execution_count": null,
   "metadata": {},
   "outputs": [],
   "source": [
    "import socket\n",
    "\n",
    "# Costanti (non modificare)\n",
    "HOST = '127.0.0.1'  # Indirizzo IP di loopback (localhost)\n",
    "PORT = 65432        # Porta non privilegiata (> 1023)\n",
    "\n",
    "def analizza_header_teorico(protocollo, primitiva, stato_connessione='N/A'):\n",
    "    \"\"\"\n",
    "    Funzione fittizia per analizzare l'effetto teorico di una primitiva \n",
    "    sugli header dei protocolli TCP e UDP.\n",
    "    \"\"\"\n",
    "    info = {\n",
    "        'primitiva': primitiva,\n",
    "        'azione': '',\n",
    "        'effetto_header': ''\n",
    "    }\n",
    "\n",
    "    if primitiva == 'socket':\n",
    "        info['azione'] = 'Crea un endpoint per la comunicazione.'\n",
    "        info['effetto_header'] = 'Nessun pacchetto inviato. Il sistema operativo alloca le risorse.'\n",
    "    elif primitiva == 'bind':\n",
    "        info['azione'] = 'Associa il socket a un indirizzo IP e una porta specifici.'\n",
    "        info['effetto_header'] = 'Nessun pacchetto inviato. L\\'OS lega il socket all\\'interfaccia di rete.'\n",
    "    elif primitiva == 'listen':\n",
    "        info['azione'] = 'Mette il server in ascolto di connessioni in ingresso.'\n",
    "        info['effetto_header'] = 'Nessun pacchetto inviato. Il server è pronto ad accettare connessioni.'\n",
    "    elif primitiva == 'connect':\n",
    "        if protocollo == 'TCP':\n",
    "            info['azione'] = 'Tenta di stabilire una connessione con un server (Three-Way Handshake).'\n",
    "            info['effetto_header'] = 'Invia un pacchetto con flag [SYN] e un Sequence Number (SEQ) iniziale.'\n",
    "        else:\n",
    "            info['azione'] = 'UDP è connectionless, quindi non stabilisce una connessione permanente.'\n",
    "            info['effetto_header'] = 'Nessun pacchetto inviato. Imposta solo il destinatario di default per i pacchetti successivi.'\n",
    "    elif primitiva in ['send', 'sendall']:\n",
    "        info['azione'] = 'Invia dati attraverso una connessione TCP stabilita.'\n",
    "        info['effetto_header'] = 'Invia dati con flag [ACK] e aggiorna SEQ e ACK numbers per garantire la consegna.'\n",
    "    elif primitiva == 'sendto':\n",
    "        info['azione'] = 'Invia un datagramma UDP a un destinatario specifico.'\n",
    "        info['effetto_header'] = 'Invia un datagramma con un header minimale: porte sorgente/destinazione, lunghezza e checksum. Nessun SEQ o ACK.'\n",
    "    elif primitiva == 'recvfrom':\n",
    "        info['azione'] = 'Riceve un datagramma UDP, restituendo anche l\\'indirizzo del mittente.'\n",
    "        info['effetto_header'] = 'Legge i dati dal buffer di rete. L\\'header UDP del pacchetto ricevuto contiene IP/porta del mittente.'\n",
    "    elif primitiva == 'close':\n",
    "        if protocollo == 'TCP':\n",
    "            info['azione'] = 'Termina la connessione in modo ordinato (Four-Way Handshake).'\n",
    "            info['effetto_header'] = 'Invia un pacchetto con flag [FIN] per iniziare la chiusura. Attende un [ACK] e un [FIN] dalla controparte.'\n",
    "        else:\n",
    "            info['azione'] = 'Rilascia le risorse del socket UDP.'\n",
    "            info['effetto_header'] = 'Nessun pacchetto inviato.'\n",
    "\n",
    "    print(f\"--- Analisi Primitiva: {info['primitiva']} ({protocollo}) ---\")\n",
    "    print(f\"Azione Teorica: {info['azione']}\")\n",
    "    print(f\"Effetto Teorico sull'Header: {info['effetto_header']}\\n\")"
   ]
  },
  {
   "cell_type": "markdown",
   "metadata": {},
   "source": [
    "## Sezione 2: TCP - Simulazione e Sequenza Affidabile"
   ]
  },
  {
   "cell_type": "code",
   "execution_count": null,
   "metadata": {},
   "outputs": [],
   "source": [
    "# Task A: Completa il codice del Client TCP\n",
    "# Inserisci le primitive corrette al posto dei placeholder [BLANK_...]\n",
    "\n",
    "print(\"--- Simulazione Client TCP ---\")\n",
    "\n",
    "# 1. Creazione del socket\n",
    "client_socket_tcp = socket.socket(socket.AF_INET, socket.SOCK_STREAM)\n",
    "analizza_header_teorico('TCP', 'socket')\n",
    "\n",
    "# 2. Connessione al server\n",
    "print(f\"Tentativo di connessione a {HOST}:{PORT}...\")\n",
    "# [BLANK_1] <- Inserisci la primitiva per connetterti al server\n",
    "# Esempio: client_socket_tcp.connect((HOST, PORT))\n",
    "analizza_header_teorico('TCP', 'connect')\n",
    "\n",
    "# 3. Invio dei dati\n",
    "messaggio = b'Ciao, mondo!'\n",
    "print(f\"Invio del messaggio: {messaggio}\")\n",
    "# [BLANK_2] <- Inserisci la primitiva per inviare dati\n",
    "# Esempio: client_socket_tcp.sendall(messaggio)\n",
    "analizza_header_teorico('TCP', 'sendall')\n",
    "\n",
    "# 4. Chiusura della connessione\n",
    "print(\"Chiusura della connessione...\")\n",
    "# [BLANK_3] <- Inserisci la primitiva per chiudere il socket\n",
    "# Esempio: client_socket_tcp.close()\n",
    "analizza_header_teorico('TCP', 'close')"
   ]
  },
  {
   "cell_type": "markdown",
   "metadata": {},
   "source": [
    "### Quesito Teorico 1\n",
    "\n",
    "Basandoti sull'output della cella precedente e sulle tue conoscenze del protocollo TCP, rispondi alle seguenti domande:\n",
    "\n",
    "1. **Primitive Mancanti:** Quali sono le tre primitive essenziali che il **server** dovrebbe eseguire per poter accettare questa connessione TCP? Elencale nell'ordine corretto.\n",
    "   \n",
    "2. **Chiusura Affidabile:** Spiega perché la primitiva `close()` in TCP è più complessa di una semplice chiusura di un file. Perché è necessario uno scambio di messaggi con flag `FIN` e `ACK` (Four-Way Handshake) invece di interrompere semplicemente la comunicazione?"
   ]
  },
  {
   "cell_type": "markdown",
   "metadata": {},
   "source": [
    "## Sezione 3: UDP - Simulazione e Sequenza Inaffidabile"
   ]
  },
  {
   "cell_type": "code",
   "execution_count": null,
   "metadata": {},
   "outputs": [],
   "source": [
    "# Task B: Completa il codice per la comunicazione UDP\n",
    "\n",
    "print(\"--- Simulazione Client-Server UDP ---\")\n",
    "\n",
    "# 1. Creazione del socket UDP\n",
    "# [BLANK_4] <- Inserisci il tipo di socket corretto per UDP\n",
    "# Esempio: client_socket_udp = socket.socket(socket.AF_INET, socket.SOCK_DGRAM)\n",
    "analizza_header_teorico('UDP', 'socket')\n",
    "\n",
    "# 2. Invio dei dati (Client)\n",
    "messaggio_udp = b'Domanda rapida!'\n",
    "server_address = (HOST, PORT)\n",
    "print(f\"Invio del datagramma a {server_address}...\")\n",
    "# [BLANK_5] <- Inserisci la primitiva per inviare dati con UDP\n",
    "# Esempio: client_socket_udp.sendto(messaggio_udp, server_address)\n",
    "analizza_header_teorico('UDP', 'sendto')\n",
    "\n",
    "# 3. Ricezione dei dati (Server - simulato)\n",
    "print(\"Il server (simulato) si mette in attesa di un datagramma...\")\n",
    "# [BLANK_6] <- Inserisci la primitiva che un server UDP userebbe per ricevere dati\n",
    "# Esempio: data, address = client_socket_udp.recvfrom(1024) # NOTA: In uno scenario reale, il server avrebbe un suo socket dedicato.\\n",
    "analizza_header_teorico('UDP', 'recvfrom')\n",
    "\n",
    "# 4. Chiusura del socket (Client)\n",
    "print(\"Chiusura del socket UDP...\")\\n",
    "# Inserisci qui la primitiva per chiudere il socket.\\n",
    "# Esempio: client_socket_udp.close()\\n",
    "analizza_header_teorico('UDP', 'close')"
   ]
  },
  {
   "cell_type": "markdown",
   "metadata": {},
   "source": [
    "### Quesito Teorico 2\n",
    "\n",
    "Basandoti sull'output della cella UDP e sulla logica del protocollo, rispondi:\n",
    "\n",
    "1. **Assenza di `connect()`:** Perché un client UDP tipicamente non usa la primitiva `connect()`? Qual è il vantaggio di rimanere \"non connesso\"?\n",
    "\n",
    "2. **Confronto `sendto` vs `send`:** Confronta l'effetto sull'header della primitiva `sendto()` (UDP) con `send()` (TCP). Quali informazioni di controllo (come Sequence Number e Acknowledgement Number) vengono omesse nell'header UDP e come questa omissione contribuisce a ridurre la latenza?"
   ]
  },
  {
   "cell_type": "markdown",
   "metadata": {},
   "source": [
    "## Soluzioni\n",
    "\n",
    "--- \n",
    "\n",
    "### Soluzione Quesito 1\n",
    "1. Le tre primitive essenziali del server sono:\n",
    "   - `bind((HOST, PORT))`: Associa il socket all'indirizzo e alla porta.\n",
    "   - `listen()`: Mette il socket in modalità di ascolto passivo.\n",
    "   - `accept()`: Estrae la prima connessione dalla coda e crea un nuovo socket per comunicare con il client.\n",
    "2. La chiusura in TCP è un'operazione affidabile e bi-direzionale. Ogni lato della connessione deve terminare in modo indipendente. Il Four-Way Handshake garantisce che nessuna delle due parti chiuda la connessione mentre l'altra sta ancora inviando dati. Un `FIN` segnala 'non ho più dati da inviare', e l'`ACK` della controparte conferma la ricezione di questo segnale. Questo previene la perdita di dati in transito.\n",
    "\n",
    "### Soluzione Quesito 2\n",
    "1. Un client UDP non usa `connect()` perché UDP è un protocollo *connectionless*. Ogni datagramma è un'unità a sé stante che contiene l'indirizzo completo del destinatario. Il vantaggio è la flessibilità: un client può inviare datagrammi a server diversi usando lo stesso socket, senza il sovraccarico di dover stabilire e chiudere una connessione per ogni comunicazione.\n",
    "2. `sendto()` (UDP) crea un header minimale (porte, lunghezza, checksum). `send()` (TCP) crea un header più complesso che include **Sequence Number** e **Acknowledgement Number**. L'omissione di questi campi in UDP elimina la necessità di tracciare lo stato della connessione, attendere conferme e gestire la ritrasmissione. Questo riduce drasticamente il numero di pacchetti di controllo e il tempo di elaborazione, abbassando la latenza a scapito dell'affidabilità."
   ]
  }
 ],
 "metadata": {
  "kernelspec": {
   "display_name": "Python 3",
   "language": "python",
   "name": "python3"
  },
  "language_info": {
   "codemirror_mode": {
    "name": "ipython",
    "version": 3
   },
   "file_extension": ".py",
   "mimetype": "text/x-python",
   "name": "python",
   "nbconvert_exporter": "python",
   "pygments_lexer": "ipython3",
   "version": "3.10.6"
  }
 },
 "nbformat": 4,
 "nbformat_minor": 4
}
