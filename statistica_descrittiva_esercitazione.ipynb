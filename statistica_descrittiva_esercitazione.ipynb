{
 "cells": [
  {
   "cell_type": "markdown",
   "metadata": {},
   "source": [
    "# Esercitazione di Statistica Descrittiva con Python\n",
    "\n",
    "**Obiettivo:** In questa esercitazione, esploreremo alcuni concetti base della statistica descrittiva utilizzando le librerie Python `pandas` e `numpy`. Impareremo a calcolare e interpretare le principali misure di tendenza centrale e di posizione.\n",
    "\n",
    "L'esercitazione \u00e8 divisa in sezioni. Ogni sezione introduce un concetto teorico, ne mostra l'applicazione pratica con esempi di codice e propone delle attivit\u00e0 da svolgere in autonomia."
   ]
  },
  {
   "cell_type": "markdown",
   "metadata": {},
   "source": [
    "## 1. Primi Passi con Pandas e Numpy\n",
    "\n",
    "Prima di iniziare con la statistica, dobbiamo caricare il nostro dataset e prendere confidenza con gli strumenti. In questa sezione, importeremo le librerie necessarie e useremo alcune funzioni base di `pandas` per esplorare i dati."
   ]
  },
  {
   "cell_type": "code",
   "execution_count": null,
   "metadata": {},
   "outputs": [],
   "source": [
    "import pandas as pd\n",
    "import numpy as np\n",
    "\n",
    "# Carichiamo il dataset che abbiamo creato in precedenza\n",
    "df = pd.read_csv('smartphones.csv')"
   ]
  },
  {
   "cell_type": "markdown",
   "metadata": {},
   "source": [
    "### Visualizzare i dati\n",
    "La prima cosa da fare \u00e8 dare un'occhiata ai dati. Il comando `.head()` \u00e8 perfetto per questo, perch\u00e9 ci mostra le prime righe del nostro DataFrame (di default, 5)."
   ]
  },
  {
   "cell_type": "code",
   "execution_count": null,
   "metadata": {},
   "outputs": [],
   "source": [
    "# Visualizziamo le prime 5 righe del dataset\n",
    "df.head()"
   ]
  },
  {
   "cell_type": "markdown",
   "metadata": {},
   "source": [
    "### Informazioni sul DataFrame\n",
    "Il metodo `.info()` ci fornisce un riassunto tecnico del DataFrame: il numero di righe, il numero di colonne, i loro nomi, il tipo di dati che contengono (es. `int64` per i numeri interi, `object` per le stringhe) e la quantit\u00e0 di memoria utilizzata."
   ]
  },
  {
   "cell_type": "code",
   "execution_count": null,
   "metadata": {},
   "outputs": [],
   "source": [
    "# Otteniamo informazioni generali sul DataFrame\n",
    "df.info()"
   ]
  },
  {
   "cell_type": "markdown",
   "metadata": {},
   "source": [
    "### Statistiche di base\n",
    "Infine, `.describe()` \u00e8 uno strumento potentissimo che calcola automaticamente le principali statistiche descrittive per tutte le colonne numeriche. Ci d\u00e0 il conteggio, la media, la deviazione standard, il valore minimo, il massimo e i quartili. Molti di questi valori li analizzeremo nel dettaglio pi\u00f9 avanti."
   ]
  },
  {
   "cell_type": "code",
   "execution_count": null,
   "metadata": {},
   "outputs": [],
   "source": [
    "# Otteniamo una statistica descrittiva di base per le colonne numeriche\n",
    "df.describe()"
   ]
  },
  {
   "cell_type": "markdown",
   "metadata": {},
   "source": [
    "## 2. Misure di Tendenza Centrale\n",
    "\n",
    "Le misure di tendenza centrale sono valori che cercano di riassumere un'intera distribuzione di dati in un singolo numero. Le pi\u00f9 comuni sono la media, la mediana e la moda.\n",
    "\n",
    "- **Media**: \u00c8 la somma di tutti i valori divisa per il loro numero totale. \u00c8 sensibile ai valori anomali (outlier).\n",
    "- **Mediana**: \u00c8 il valore centrale in un insieme di dati ordinati. Se il numero di dati \u00e8 pari, \u00e8 la media dei due valori centrali. Non \u00e8 sensibile ai valori anomali.\n",
    "- **Moda**: \u00c8 il valore che compare pi\u00f9 frequentemente in un insieme di dati."
   ]
  },
  {
   "cell_type": "code",
   "execution_count": null,
   "metadata": {},
   "outputs": [],
   "source": [
    "# Calcoliamo la media del prezzo\n",
    "media_prezzo = df['prezzo'].mean()\n",
    "print(f\"La media del prezzo \u00e8: {media_prezzo:.2f} \u20ac\")\n",
    "\n",
    "# Calcoliamo la mediana del prezzo\n",
    "mediana_prezzo = df['prezzo'].median()\n",
    "print(f\"La mediana del prezzo \u00e8: {mediana_prezzo:.2f} \u20ac\")\n",
    "\n",
    "# Calcoliamo la moda del brand\n",
    "moda_brand = df['brand'].mode()[0] # .mode() restituisce una Serie, prendiamo il primo elemento\n",
    "print(f\"La moda del brand \u00e8: {moda_brand}\")"
   ]
  },
  {
   "cell_type": "markdown",
   "metadata": {},
   "source": [
    "### Attivit\u00e0 1: Calcolare la media manualmente\n",
    "\n",
    "Per capire davvero come funziona la media, proviamo a implementare il calcolo da zero. Completa la funzione  qui sotto. La funzione deve accettare una lista di numeri e restituire la loro media."
   ]
  },
  {
   "cell_type": "code",
   "execution_count": null,
   "metadata": {},
   "outputs": [],
   "source": [
    "def calcola_media(lista_numeri):\n",
    "    \"\"\"Calcola la media di una lista di numeri.\"\"\"\n",
    "    # SUGGERIMENTO: Hai bisogno di due cose: la somma di tutti i numeri e il conteggio di quanti numeri ci sono.\n",
    "    # In Python, puoi usare sum() per sommare e len() per contare.\n",
    "    \n",
    "    # Scrivi qui il tuo codice\n",
    "    somma = sum(lista_numeri)\n",
    "    conteggio = len(lista_numeri)\n",
    "    if conteggio == 0:\n",
    "        return 0 # Gestiamo il caso di una lista vuota\n",
    "    media = somma / conteggio\n",
    "    return media\n",
    "\n",
    "# Testiamo la funzione con la colonna 'batteria_mAh'\n",
    "media_batteria_manuale = calcola_media(df['batteria_mAh'].tolist())\n",
    "media_batteria_pandas = df['batteria_mAh'].mean()\n",
    "\n",
    "print(f\"Media calcolata manualmente: {media_batteria_manuale:.2f}\")\n",
    "print(f\"Media calcolata con pandas: {media_batteria_pandas:.2f}\")\n",
    "\n",
    "# Un piccolo test per verificare la correttezza\n",
    "assert round(media_batteria_manuale, 2) == round(media_batteria_pandas, 2)"
   ]
  },
  {
   "cell_type": "markdown",
   "metadata": {},
   "source": [
    "### Attivit\u00e0 2: Analisi dei Risultati\n",
    "\n",
    "Ora che abbiamo calcolato media e mediana del prezzo, rispondiamo a qualche domanda. Scrivi le tue osservazioni nella cella sottostante.\n",
    "\n",
    "**Scheletro guidato:**\n",
    "1.  **Confronto Media e Mediana**: I valori di media e mediana del prezzo sono molto simili o molto diversi? (, )\n",
    "2.  **Interpretazione**: Cosa suggerisce questa somiglianza o differenza riguardo alla distribuzione dei prezzi degli smartphone nel nostro dataset? Se la media \u00e8 pi\u00f9 alta della mediana, potrebbe significare che ci sono alcuni modelli molto costosi che \"alzano\" la media. Se sono simili, la distribuzione \u00e8 abbastanza simmetrica.\n",
    "3.  **Moda**: Qual \u00e8 il brand pi\u00f9 comune ()? Questo dato cosa ci dice sulla composizione del nostro campione di smartphone?"
   ]
  },
  {
   "cell_type": "markdown",
   "metadata": {},
   "source": [
    "**RISPOSTE (scrivi qui le tue osservazioni):**\n",
    "\n",
    "1.  \n",
    "2.  \n",
    "3.  "
   ]
  },
  {
   "cell_type": "markdown",
   "metadata": {},
   "source": [
    "## 3. Percentili e Quartili\n",
    "\n",
    "I **percentili** sono valori che dividono un insieme di dati ordinati in 100 parti uguali. Ad esempio, il 25\u00b0 percentile (Q1) \u00e8 il valore al di sotto del quale si trova il 25% dei dati.\n",
    "\n",
    "I **quartili** sono percentili specifici che dividono i dati in quattro parti uguali:\n",
    "- **Q1 (Primo Quartile)**: Corrisponde al 25\u00b0 percentile.\n",
    "- **Q2 (Secondo Quartile)**: Corrisponde al 50\u00b0 percentile, che \u00e8 anche la **mediana**.\n",
    "- **Q3 (Terzo Quartile)**: Corrisponde al 75\u00b0 percentile."
   ]
  },
  {
   "cell_type": "code",
   "execution_count": null,
   "metadata": {},
   "outputs": [],
   "source": [
    "# Calcoliamo i quartili per la colonna 'prezzo'\n",
    "q1_prezzo = df['prezzo'].quantile(0.25)\n",
    "q2_prezzo = df['prezzo'].quantile(0.50)\n",
    "q3_prezzo = df['prezzo'].quantile(0.75)\n",
    "\n",
    "print(f\"Primo quartile (Q1) del prezzo: {q1_prezzo:.2f} \u20ac\")\n",
    "print(f\"Secondo quartile (Q2) del prezzo: {q2_prezzo:.2f} \u20ac\")\n",
    "print(f\"Terzo quartile (Q3) del prezzo: {q3_prezzo:.2f} \u20ac\")\n",
    "\n",
    "# Ricorda che il metodo .describe() ci aveva gi\u00e0 fornito questi valori!\n",
    "df['prezzo'].describe()"
   ]
  },
  {
   "cell_type": "markdown",
   "metadata": {},
   "source": [
    "### Attivit\u00e0 3: Verifica di un'ipotesi\n",
    "\n",
    "Usiamo i quartili per verificare un'affermazione. L'ipotesi \u00e8: **\"Il 25% degli smartphone pi\u00f9 economici nel nostro dataset costa meno di 300\u20ac.\"**\n",
    "\n",
    "Per verificarlo, calcola il primo quartile (Q1) della colonna  e confronta il risultato con 300\u20ac. Scrivi il codice per il calcolo e poi commenta il risultato nella cella di testo sottostante."
   ]
  },
  {
   "cell_type": "code",
   "execution_count": null,
   "metadata": {},
   "outputs": [],
   "source": [
    "# Scrivi qui il codice per calcolare il Q1 del prezzo\n",
    "primo_quartile_prezzo = df['prezzo'].quantile(0.25)\n",
    "print(f\"Il primo quartile del prezzo \u00e8: {primo_quartile_prezzo:.2f} \u20ac\")"
   ]
  },
  {
   "cell_type": "markdown",
   "metadata": {},
   "source": [
    "**RISPOSTA (scrivi qui la tua conclusione):**\n",
    "\n",
    "L'affermazione \u00e8 vera o falsa? Motiva la tua risposta sulla base del valore di Q1 che hai calcolato."
   ]
  },
  {
   "cell_type": "markdown",
   "metadata": {},
   "source": [
    "# Soluzioni degli Esercizi\n",
    "\n",
    "In questa sezione trovi le soluzioni e le spiegazioni per le attivit\u00e0 proposte."
   ]
  },
  {
   "cell_type": "markdown",
   "metadata": {},
   "source": [
    "### Soluzione Attivit\u00e0 1: Calcolare la media manualmente\n",
    "\n",
    "Il codice completo per la funzione  \u00e8 il seguente. La logica consiste nel sommare tutti gli elementi della lista e dividerli per il loro numero (il conteggio)."
   ]
  },
  {
   "cell_type": "code",
   "execution_count": null,
   "metadata": {},
   "outputs": [],
   "source": [
    "def calcola_media(lista_numeri):\n",
    "    \"\"\"Calcola la media di una lista di numeri.\"\"\"\n",
    "    somma = sum(lista_numeri)\n",
    "    conteggio = len(lista_numeri)\n",
    "    if conteggio == 0:\n",
    "        return 0\n",
    "    media = somma / conteggio\n",
    "    return media"
   ]
  },
  {
   "cell_type": "markdown",
   "metadata": {},
   "source": [
    "### Soluzione Attivit\u00e0 2: Analisi dei Risultati\n",
    "\n",
    "**Motivazione:** Le risposte a queste domande dipendono dai dati generati casualmente, quindi i tuoi risultati potrebbero essere leggermente diversi. Tuttavia, il ragionamento da seguire \u00e8 questo:\n",
    "\n",
    "1.  **Confronto Media e Mediana**: Osserva i valori di  e . Molto probabilmente saranno abbastanza vicini, ma non identici.\n",
    "2.  **Interpretazione**: Se la media \u00e8 leggermente pi\u00f9 alta della mediana, significa che ci sono alcuni smartphone con un prezzo molto elevato che \"tira su\" il valore medio. Se fossero identiche, la distribuzione dei prezzi sarebbe perfettamente simmetrica. La mediana \u00e8 spesso un indicatore pi\u00f9 robusto del \"centro\" di una distribuzione perch\u00e9 non \u00e8 influenzata dai valori estremi.\n",
    "3.  **Moda**: La moda ci dice semplicemente quale brand appare pi\u00f9 spesso. Se, ad esempio, la moda \u00e8 \"BrandC\", significa che nel nostro campione casuale, quel brand \u00e8 il pi\u00f9 rappresentato. Non ci d\u00e0 informazioni sulla qualit\u00e0 o sul prezzo, ma solo sulla frequenza."
   ]
  },
  {
   "cell_type": "markdown",
   "metadata": {},
   "source": [
    "### Soluzione Attivit\u00e0 3: Verifica di un'ipotesi\n",
    "\n",
    "**Ipotesi**: *\"Il 25% degli smartphone pi\u00f9 economici nel nostro dataset costa meno di 300\u20ac.\"*\n",
    "\n",
    "**Svolgimento**: Per verificare questa affermazione, dobbiamo calcolare il 25\u00b0 percentile (Q1) dei prezzi. Questo valore ci dir\u00e0 esattamente qual \u00e8 il prezzo massimo del 25% pi\u00f9 economico degli smartphone.\n",
    "\n",
    "Il codice calcola che il Q1 \u00e8 un certo valore (es. ). Poich\u00e9 questo valore \u00e8 inferiore a 300\u20ac, l'affermazione \u00e8 **vera**. Il valore di Q1 ci dice che il 25% degli smartphone ha un prezzo pari o inferiore a , che \u00e8 appunto un valore minore di 300\u20ac."
   ]
  }
 ],
 "metadata": {
  "kernelspec": {
   "display_name": "Python 3",
   "language": "python",
   "name": "python3"
  },
  "language_info": {
   "codemirror_mode": {
    "name": "ipython",
    "version": 3
   },
   "file_extension": ".py",
   "mimetype": "text/x-python",
   "name": "python",
   "nbconvert_exporter": "python",
   "pygments_lexer": "ipython3",
   "version": "3.10.6"
  }
 },
 "nbformat": 4,
 "nbformat_minor": 4
}